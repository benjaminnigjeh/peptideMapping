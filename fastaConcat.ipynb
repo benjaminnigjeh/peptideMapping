{
  "nbformat": 4,
  "nbformat_minor": 0,
  "metadata": {
    "colab": {
      "provenance": [],
      "authorship_tag": "ABX9TyOwvYg+xKvJRmL9w6sJIB1l",
      "include_colab_link": true
    },
    "kernelspec": {
      "name": "python3",
      "display_name": "Python 3"
    },
    "language_info": {
      "name": "python"
    }
  },
  "cells": [
    {
      "cell_type": "markdown",
      "metadata": {
        "id": "view-in-github",
        "colab_type": "text"
      },
      "source": [
        "<a href=\"https://colab.research.google.com/github/benjaminnigjeh/peptideMapping/blob/main/fastaConcat.ipynb\" target=\"_parent\"><img src=\"https://colab.research.google.com/assets/colab-badge.svg\" alt=\"Open In Colab\"/></a>"
      ]
    },
    {
      "cell_type": "markdown",
      "source": [
        "# Import libraries and dependencies\n",
        "The code requires operating system (OS) and google functions.\n"
      ],
      "metadata": {
        "id": "OoXCd7jDynJ3"
      }
    },
    {
      "cell_type": "code",
      "source": [
        "import os\n",
        "from google.colab import files"
      ],
      "metadata": {
        "id": "VNg5Ir22ykde"
      },
      "execution_count": 51,
      "outputs": []
    },
    {
      "cell_type": "markdown",
      "source": [
        "# Setting file directories and receiving user inputs\n",
        "A folder is created on the virtual environment to save the input and output files. The user inputs are number of fasta files to be concatenated, name of files, file uploades, and the output fasta file name."
      ],
      "metadata": {
        "id": "7X63EJ_VzoTY"
      }
    },
    {
      "cell_type": "code",
      "execution_count": null,
      "metadata": {
        "id": "Y6cfBLBj8QBZ"
      },
      "outputs": [],
      "source": [
        "#setting directories\n",
        "path_search = \"/content/sample_data\"\n",
        "os.chdir(path_search)\n",
        "\n",
        "#user inputs\n",
        "A = input('how many fasta files will be concatenated?')\n",
        "name = []\n",
        "for i in range(1, int(A)+1):\n",
        "  B = input('what is the file name of protein ' + str(i) +'?')\n",
        "  C = B + \".fasta\"\n",
        "  name.append(C)\n",
        "  print('uploaded file', C)\n",
        "  uploaded = files.upload()\n",
        "\n",
        "#generating the command\n",
        "D = 'cat '\n",
        "for i in range(0, len(name)):\n",
        "  D = D + name[i] + \" \"\n",
        "E = input('what is the name of output fasta?')\n",
        "D = D + \" > \" + E + \".fasta\"\n",
        "\n",
        "#concatentation\n",
        "os.system(D)"
      ]
    }
  ]
}