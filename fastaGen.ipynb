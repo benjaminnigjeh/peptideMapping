{
  "nbformat": 4,
  "nbformat_minor": 0,
  "metadata": {
    "colab": {
      "provenance": [],
      "authorship_tag": "ABX9TyPJ4Xhxqz1LGNMcU45u8V7g",
      "include_colab_link": true
    },
    "kernelspec": {
      "name": "python3",
      "display_name": "Python 3"
    },
    "language_info": {
      "name": "python"
    }
  },
  "cells": [
    {
      "cell_type": "markdown",
      "metadata": {
        "id": "view-in-github",
        "colab_type": "text"
      },
      "source": [
        "<a href=\"https://colab.research.google.com/github/benjaminnigjeh/peptideMapping/blob/main/fastaGen.ipynb\" target=\"_parent\"><img src=\"https://colab.research.google.com/assets/colab-badge.svg\" alt=\"Open In Colab\"/></a>"
      ]
    },
    {
      "cell_type": "markdown",
      "source": [
        "# Install required libraries\n",
        "Bio, which includes useful Biopython modules, is not among the standard Python libraries. It shoud be pip installed with a command passed to shell. An older version is specified for download (Version 1.6.1)."
      ],
      "metadata": {
        "id": "tQ6GJyotVSmb"
      }
    },
    {
      "cell_type": "code",
      "source": [
        "!pip install Bio==1.6.1"
      ],
      "metadata": {
        "id": "uaD65Aos8WgK"
      },
      "execution_count": null,
      "outputs": []
    },
    {
      "cell_type": "markdown",
      "source": [
        "# Import libraries and dependencies\n",
        "The code requires operating system (OS), BioPython, and google functions.\n"
      ],
      "metadata": {
        "id": "OoXCd7jDynJ3"
      }
    },
    {
      "cell_type": "code",
      "source": [
        "import os\n",
        "from Bio import SeqIO\n",
        "from Bio.Seq import Seq\n",
        "from google.colab import files"
      ],
      "metadata": {
        "id": "VNg5Ir22ykde"
      },
      "execution_count": null,
      "outputs": []
    },
    {
      "cell_type": "markdown",
      "source": [
        "# Setting file directories and receiving user inputs\n",
        "A folder is created on the virtual environment to save the input and output files. The user inputs are protein ID, protein description, protein sequence, and output file name. Blank spaces from sequence will be removed automatically."
      ],
      "metadata": {
        "id": "7X63EJ_VzoTY"
      }
    },
    {
      "cell_type": "code",
      "execution_count": null,
      "metadata": {
        "id": "Y6cfBLBj8QBZ"
      },
      "outputs": [],
      "source": [
        "#setting directories\n",
        "path_search = \"/content/sample_data\"\n",
        "os.chdir(path_search)\n",
        "\n",
        "#uploading the template fasta file\n",
        "print('please upload the template fasta file')\n",
        "uploaded = files.upload()\n",
        "\n",
        "#asking for user inputs\n",
        "A = input('what is the name, format: exel|PRO42|PLK4_CUSTOM?\\n')\n",
        "B = input('what is the protein description?\\n')\n",
        "C = input('what is the sequence?\\n')\n",
        "D = input('what is the file name?')\n",
        "E = D.replace(\" \", \"\")"
      ]
    },
    {
      "cell_type": "markdown",
      "source": [
        "# Generating the output fasta file\n",
        "The output fasta file is curated based on users input and overwrites the fasta template. The file is saved in the designated folder."
      ],
      "metadata": {
        "id": "-Lql_IZR7eAK"
      }
    },
    {
      "cell_type": "code",
      "source": [
        "#generating the final fasta file\n",
        "seq_read = SeqIO.read(\"/content/sample_data/template.fasta\", \"fasta\")\n",
        "seq_read.id = '{}'.format(A)\n",
        "seq_read.name = '{}'.format(A)\n",
        "seq_read.description = '{} '.format(B)\n",
        "seq_read.seq = Seq(C)\n",
        "SeqIO.write(seq_read, \"/content/sample_data/{}.fasta\".format(E), \"fasta\")"
      ],
      "metadata": {
        "id": "-QQVMxz50SYS"
      },
      "execution_count": null,
      "outputs": []
    }
  ]
}